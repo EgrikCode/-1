{
 "cells": [
  {
   "cell_type": "markdown",
   "id": "fb9341a6",
   "metadata": {},
   "source": [
    "# Гайана\n",
    "\n",
    "![Флаг Гайани](https://upload.wikimedia.org/wikipedia/commons/thumb/9/99/Flag_of_Guyana.svg/1920px-Flag_of_Guyana.svg.png)\n",
    "\n",
    "## Загальна інформація\n",
    "*Гайана - країна, розташована на північному узбережжі Південної Америки. Вона має багатий культурний спадок та відому природну красу.*\n",
    "\n",
    "### Площа\n",
    "**Площа Гайани становить приблизно 214,970 квадратних кілометрів.**\n",
    "\n",
    "### Населення\n",
    "<span style=\"color: blue;\">Гайана має приблизно 786,552 жителів.</span>\n",
    "\n",
    "## Державний устрій\n",
    "<br>\n",
    "<div style=\"border: 2px solid black; padding: 10px;\">\n",
    "<p style=\"color:green;\">Гайана є республікою з президентсько-парламентською системою. Президент є главою держави і уряду.</p>\n",
    "</div>\n",
    "\n",
    "## Видатні персоналії\n",
    "- Ірфаан Алі - президент Гайани.\n",
    "- Мартін Картер - відомий поет і політик.\n",
    "- Едіт Боліндер - відома музикантка та співачка.\n",
    "\n",
    "## Пам'ятки культури\n",
    "<p style=\"color:red;\">Гайана славиться своєю культурною спадщиною, включаючи:</p>\n",
    "- Водоспади Кайетур\n",
    "- Діамантіна та інші природні ландшафти країни\n",
    "- Музеї та історичні місця Джорджтауна\n",
    "\n",
    "## Природа\n",
    "Гайана відома своєю красою природи, включаючи:\n",
    "- Тропічні ліси та гори\n",
    "- Річки та водоспади\n",
    "- Багатий біорізноманіттям флори та фауни\n",
    "\n",
    "[Докладніше про Гайану](https://uk.wikipedia.org/wiki/%D0%93%D0%B0%D0%B9%D0%B0%D0%BD%D0%B0)\n",
    "\n",
    "<table>\n",
    "  <tr>\n",
    "    <th>Мова</th>\n",
    "    <th>Валюта</th>\n",
    "    <th>Часовий пояс</th>\n",
    "  </tr>\n",
    "  <tr>\n",
    "    <td>Англійська</td>\n",
    "    <td>Гаянський долар (GYD)</td>\n",
    "    <td>UTC−4</td>\n",
    "  </tr>\n",
    "</table>\n",
    "\n",
    "## <svg width=\"100\" height=\"50\" xmlns=\"http://www.w3.org/2000/svg\">\n",
    "  <rect width=\"100\" height=\"50\" fill=\"#009739\" />\n",
    "  <polygon points=\"0,0 100,25 0,50\" fill=\"#ffffff\"/>\n",
    "  <polygon points=\"0,0 90,25 0,50\" fill=\"#fcd116\"/>\n",
    "  <polygon points=\"0,0 50,25 0,50\" fill=\"#ff0000\"/>\n",
    "  <polygon points=\"0,0 45,25 0,50\" fill=\"#000000\"/>\n",
    "</svg>"
   ]
  },
  {
   "cell_type": "code",
   "execution_count": 5,
   "id": "5d445c09",
   "metadata": {},
   "outputs": [],
   "source": [
    "def var_3():\n",
    "    numbers = input(\"Введіть список цілих чисел через пробіл: \")\n",
    "    num_list = list(map(int, numbers.split()))\n",
    "    num_list.sort()\n",
    "    n = len(num_list)\n",
    "    if n % 2 == 1:\n",
    "        middle_element = num_list[n // 2]\n",
    "        print(middle_element)\n",
    "    else:\n",
    "        middle_elements = (num_list[n // 2 - 1], num_list[n // 2])\n",
    "        print(f\"{middle_elements} – це середина відсортованого списку\")"
   ]
  },
  {
   "cell_type": "code",
   "execution_count": 7,
   "id": "39f2b15f",
   "metadata": {},
   "outputs": [
    {
     "name": "stdout",
     "output_type": "stream",
     "text": [
      "Введіть список цілих чисел через пробіл: 2 4 5 1 7\n",
      "4\n"
     ]
    }
   ],
   "source": [
    "var_3()"
   ]
  },
  {
   "cell_type": "code",
   "execution_count": 8,
   "id": "837d148d",
   "metadata": {},
   "outputs": [
    {
     "name": "stdout",
     "output_type": "stream",
     "text": [
      "Введіть список цілих чисел через пробіл: 7 3 1 7 4 2 8 2\n",
      "(3, 4) – це середина відсортованого списку\n"
     ]
    }
   ],
   "source": [
    "var_3()"
   ]
  },
  {
   "cell_type": "code",
   "execution_count": null,
   "id": "53c09423",
   "metadata": {},
   "outputs": [],
   "source": []
  }
 ],
 "metadata": {
  "kernelspec": {
   "display_name": "Python 3 (ipykernel)",
   "language": "python",
   "name": "python3"
  },
  "language_info": {
   "codemirror_mode": {
    "name": "ipython",
    "version": 3
   },
   "file_extension": ".py",
   "mimetype": "text/x-python",
   "name": "python",
   "nbconvert_exporter": "python",
   "pygments_lexer": "ipython3",
   "version": "3.11.5"
  }
 },
 "nbformat": 4,
 "nbformat_minor": 5
}
